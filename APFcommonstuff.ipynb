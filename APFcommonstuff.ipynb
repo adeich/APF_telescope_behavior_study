{
 "cells": [
  {
   "cell_type": "code",
   "execution_count": 133,
   "metadata": {},
   "outputs": [],
   "source": [
    "from io import StringIO\n",
    "import pandas\n",
    "import APFcommonstuff as APF\n",
    "\n",
    "from importlib import reload"
   ]
  },
  {
   "cell_type": "code",
   "execution_count": 119,
   "metadata": {},
   "outputs": [],
   "source": [
    "\n",
    "csv_string = \"\"\"\n",
    "raw_name,short_name,units,description\n",
    "DateTimeLocal, Local Datetime,,Datetime at Lick Observatory \n",
    "YearMonthDayHour,,, \n",
    "EpocSeconds, , , \n",
    "exposure_begin_datetime, Beginning of exposure, , Time the exposure began \n",
    "exposure_end_datetime, End of exposure, , Time the exposure ended\n",
    "velocity, velocity, m/s, measured velocity of a benchmark star \n",
    "velocity_error, , , \n",
    "stellar_activity1, , , \n",
    "stellar_activity2, , , \n",
    "total_counts, , , \n",
    "brad_doesnt_know, , , \n",
    "DateTimeUTC, , , \n",
    "starID, , , \n",
    "MIDPTFIN, , , \n",
    "AZ, , , \n",
    "EL, , , \n",
    "AZENCPOS,Azimuthal Encoder Position,clicks,Telescope's vertical angle encoder position. \n",
    "ELENCPOS,Elevation Encoder Position,clicks,\n",
    "AZENCVEL, , , \n",
    "ELENCVEL, , , \n",
    "AZFLWERR, , , \n",
    "ELFLWERR, , , \n",
    "OUTFILE, , , \n",
    "OBSNUM, , , \n",
    "MODE, , , \n",
    "AVG_FWHM, , , \n",
    "M5WIND, , , \n",
    "M5WINDAZ, , , \n",
    "TAVERAGE, , , \n",
    "TM1S210, , , \n",
    "TM2CAIR, , , \n",
    "OFFSET_AZ, , , \n",
    "OFFSET_EL, , , \n",
    "RMSOFFSET_AZ, , , \n",
    "RMSOFFSET_EL, , , \n",
    "AVGOFFSET_AZ, , , \n",
    "AVGOFFSET_EL, , , \n",
    "HATCHPOS, , , \n",
    "night_start_temperature, , , \n",
    "night_start_TM1S210, , , \n",
    "night_start_TM2CAIR, , , \n",
    "delta_TAVERAGE, , , \n",
    "delta_TM1S210, , , \n",
    "delta_TM2CAIR, , , \n",
    "wind_dome_angle, , , \n",
    "\n",
    "\"\"\""
   ]
  },
  {
   "cell_type": "code",
   "execution_count": 120,
   "metadata": {},
   "outputs": [
    {
     "data": {
      "text/plain": [
       "Index(['short_name', 'units', 'description'], dtype='object')"
      ]
     },
     "execution_count": 120,
     "metadata": {},
     "output_type": "execute_result"
    }
   ],
   "source": [
    "string_io = StringIO(csv_string)\n",
    "df = pandas.read_csv(string_io)\n",
    "df.set_index('raw_name', inplace=True)\n",
    "df.columns"
   ]
  },
  {
   "cell_type": "code",
   "execution_count": 106,
   "metadata": {},
   "outputs": [
    {
     "data": {
      "text/plain": [
       "' clicks'"
      ]
     },
     "execution_count": 106,
     "metadata": {},
     "output_type": "execute_result"
    }
   ],
   "source": [
    "df.loc['AZENCPOS']['units']"
   ]
  },
  {
   "cell_type": "code",
   "execution_count": 129,
   "metadata": {},
   "outputs": [],
   "source": [
    "def shortname(raw_name):\n",
    "    output_string = str(df.loc[raw_name]['short_name'])\n",
    "    return output_string\n",
    "\n",
    "def units(raw_name):\n",
    "    output_string = str(df.loc[raw_name]['units'])\n",
    "    return output_string\n",
    "\n",
    "def description(raw_name):\n",
    "    output_string = str(df.loc[raw_name]['description'])\n",
    "    return output_string\n"
   ]
  },
  {
   "cell_type": "code",
   "execution_count": 132,
   "metadata": {},
   "outputs": [
    {
     "name": "stdout",
     "output_type": "stream",
     "text": [
      "Azimuthal Encoder Position\n",
      "nan\n",
      "Telescope's vertical angle encoder position. \n"
     ]
    }
   ],
   "source": [
    "print(APF.shortname('AZENCPOS'))\n",
    "print(APF.units('DateTimeLocal'))\n",
    "print(APF.description('AZENCPOS'))"
   ]
  }
 ],
 "metadata": {
  "kernelspec": {
   "display_name": "Python 3",
   "language": "python",
   "name": "python3"
  },
  "language_info": {
   "codemirror_mode": {
    "name": "ipython",
    "version": 3
   },
   "file_extension": ".py",
   "mimetype": "text/x-python",
   "name": "python",
   "nbconvert_exporter": "python",
   "pygments_lexer": "ipython3",
   "version": "3.7.1"
  }
 },
 "nbformat": 4,
 "nbformat_minor": 2
}
