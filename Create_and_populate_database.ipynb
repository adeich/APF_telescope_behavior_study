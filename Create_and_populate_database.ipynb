{
 "cells": [
  {
   "cell_type": "code",
   "execution_count": 9,
   "metadata": {},
   "outputs": [],
   "source": [
    "import os\n",
    "from os import path\n",
    "import sqlite3\n",
    "global_sqlite_filename='fulldatabase.sqlite'\n",
    "import pandas"
   ]
  },
  {
   "cell_type": "code",
   "execution_count": 10,
   "metadata": {},
   "outputs": [
    {
     "name": "stdout",
     "output_type": "stream",
     "text": [
      "TEXT\n",
      "/Volumes/aaronthumb1/APF_telescope_behavior_study\n",
      "['.git', 'basic_glance_of_data .ipynb', 'tiny_subset_data', '.ipynb_checkpoints', 'Create_and_populate_database.ipynb']\n"
     ]
    }
   ],
   "source": [
    "class col_types:\n",
    "    TEXT = 'TEXT'\n",
    "    INTEGER = 'INTEGER'\n",
    "    REAL = 'REAL'\n",
    "    BLOB = 'BLOB'\n",
    "    NULL = 'NULL'\n",
    "        \n",
    "ct = col_types()\n",
    "print(col_types.TEXT)\n",
    "\n",
    "print(os.getcwd())\n",
    "print(os.listdir())"
   ]
  },
  {
   "cell_type": "code",
   "execution_count": 17,
   "metadata": {},
   "outputs": [],
   "source": [
    "def create_database(sqlite_filename='fulldatabase.sqlite', replace_db=False):\n",
    "    conn = sqlite3.connect(sqlite_filename)\n",
    "    cursor = conn.cursor()\n",
    "    return cursor\n",
    "       \n",
    "def get_telemetry_columns():\n",
    "    columns = {'DateTime': ct.TEXT, \n",
    "                  'TARGET': ct.NULL,\n",
    "                  'MIDPTFIN': ct.REAL,\n",
    "                  'AZ': ct.REAL,\n",
    "                  'EL': ct.REAL,\n",
    "                  'AZENCPOS': ct.REAL,\n",
    "                  'ELENCPOS': ct.REAL,\n",
    "                  'AZENCVEL': ct.REAL,\n",
    "                  'ELENCVEL': ct.REAL,\n",
    "                  'AZFLWERR': ct.REAL,\n",
    "                  'ELFLWERR': ct.REAL,\n",
    "                  'OUTFILE': ct.REAL,\n",
    "                  'OBSNUM': ct.REAL,\n",
    "                  'MODE': ct.REAL,\n",
    "                  'AVG_FWHM': ct.REAL,\n",
    "                  'M5WIND': ct.REAL,\n",
    "                  'M5WINDAZ': ct.REAL,\n",
    "                  'TAVERAGE': ct.REAL,\n",
    "                  'TM1S210': ct.REAL,\n",
    "                  'TM2CAIR': ct.REAL,\n",
    "                  'OFFSET_AZ': ct.REAL,\n",
    "                  'OFFSET_EL': ct.REAL,\n",
    "                  'RMSOFFSET_AZ': ct.REAL,\n",
    "                  'RMSOFFSET_EL': ct.REAL,\n",
    "                  'AVGOFFSET_AZ': ct.REAL,\n",
    "                  'AVGOFFSET_EL': ct.REAL,\n",
    "                  'HATCHPOS': ct.TEXT,\n",
    "                  'EVENT': ct.TEXT}    \n",
    "    return columns\n",
    "    \n",
    "def create_telemetry_table(cursor):        \n",
    "    columns_table1 = get_telemetry_columns()\n",
    "    l = ['{} {}'.format(k,v) for (k, v) in columns_table1.items()]\n",
    "    print(len(l))\n",
    "    full_list = ', '.join(l)\n",
    "    sql_string = 'CREATE TABLE telemetry (' + full_list + ')'\n",
    "    print(sql_string)        \n",
    "        \n",
    "    # Creating a new SQLite table \n",
    "    cursor.execute(sql_string)    \n",
    "    \n",
    "    return\n",
    "\n",
    "def open_connection(sqlite_filename='fulldatabase.sqlite'):\n",
    "    dburi = 'file:{}?mode=rw'.format(sqlite_filename)\n",
    "    conn = sqlite3.connect(dburi, uri=True)\n",
    "    return conn\n",
    "    "
   ]
  },
  {
   "cell_type": "code",
   "execution_count": 18,
   "metadata": {},
   "outputs": [
    {
     "name": "stdout",
     "output_type": "stream",
     "text": [
      "28\n",
      "CREATE TABLE telemetry (DateTime TEXT, TARGET NULL, MIDPTFIN REAL, AZ REAL, EL REAL, AZENCPOS REAL, ELENCPOS REAL, AZENCVEL REAL, ELENCVEL REAL, AZFLWERR REAL, ELFLWERR REAL, OUTFILE REAL, OBSNUM REAL, MODE REAL, AVG_FWHM REAL, M5WIND REAL, M5WINDAZ REAL, TAVERAGE REAL, TM1S210 REAL, TM2CAIR REAL, OFFSET_AZ REAL, OFFSET_EL REAL, RMSOFFSET_AZ REAL, RMSOFFSET_EL REAL, AVGOFFSET_AZ REAL, AVGOFFSET_EL REAL, HATCHPOS TEXT, EVENT TEXT)\n"
     ]
    }
   ],
   "source": [
    "cursor = create_database()\n",
    "create_telemetry_table(cursor)"
   ]
  },
  {
   "cell_type": "code",
   "execution_count": null,
   "metadata": {},
   "outputs": [],
   "source": []
  },
  {
   "cell_type": "code",
   "execution_count": 19,
   "metadata": {},
   "outputs": [
    {
     "name": "stdout",
     "output_type": "stream",
     "text": [
      "['DateTime', 'TARGET', 'MIDPTFIN', 'AZ', 'EL', 'AZENCPOS', 'ELENCPOS', 'AZENCVEL', 'ELENCVEL', 'AZFLWERR', 'ELFLWERR', 'OUTFILE', 'OBSNUM', 'MODE', 'AVG_FWHM', 'M5WIND', 'M5WINDAZ', 'TAVERAGE', 'TM1S210', 'TM2CAIR', 'OFFSET_AZ', 'OFFSET_EL', 'RMSOFFSET_AZ', 'RMSOFFSET_EL', 'AVGOFFSET_AZ', 'AVGOFFSET_EL', 'HATCHPOS', 'EVENT']\n"
     ]
    }
   ],
   "source": [
    "def populate_telemetry_table(c):\n",
    "    pass\n",
    "\n",
    "#conn = open_connection()\n",
    "telemetry_columns = get_telemetry_columns()\n",
    "print([k for (k, v) in telemetry_columns.items()])"
   ]
  },
  {
   "cell_type": "code",
   "execution_count": 20,
   "metadata": {},
   "outputs": [],
   "source": [
    "telemetry1df = pandas.read_csv('tiny_subset_data/subset_2015_01_01_02_offsets', \n",
    "                               sep='\\t', skiprows=0, header=None, names=telemetry_columns)\n",
    "#print(telemetry1df)\n",
    "telemetry1df.to_sql('telemetry', conn, if_exists='append', index=False)\n"
   ]
  },
  {
   "cell_type": "code",
   "execution_count": 22,
   "metadata": {},
   "outputs": [],
   "source": [
    "telemetrybig = pandas.read_csv('../telemetry_by_year/2015/2015_01_01_02_offsets', \n",
    "                               sep='\\t', skiprows=1, header=None, names=telemetry_columns)"
   ]
  },
  {
   "cell_type": "code",
   "execution_count": 23,
   "metadata": {},
   "outputs": [],
   "source": [
    "telemetrybig.to_sql('telemetry', conn, if_exists='append', index=False)"
   ]
  }
 ],
 "metadata": {
  "kernelspec": {
   "display_name": "Python 3",
   "language": "python",
   "name": "python3"
  },
  "language_info": {
   "codemirror_mode": {
    "name": "ipython",
    "version": 3
   },
   "file_extension": ".py",
   "mimetype": "text/x-python",
   "name": "python",
   "nbconvert_exporter": "python",
   "pygments_lexer": "ipython3",
   "version": "3.7.1"
  }
 },
 "nbformat": 4,
 "nbformat_minor": 2
}
