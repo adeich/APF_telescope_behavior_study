{
 "cells": [
  {
   "cell_type": "code",
   "execution_count": 22,
   "metadata": {},
   "outputs": [],
   "source": [
    "import os\n",
    "from os import path\n",
    "import sqlite3\n",
    "global_sqlite_filename='apf.db'\n",
    "import pandas\n",
    "from datetime import datetime, timedelta\n",
    "import numpy as np\n",
    "from astropy.time import Time"
   ]
  },
  {
   "cell_type": "code",
   "execution_count": 3,
   "metadata": {},
   "outputs": [
    {
     "name": "stdout",
     "output_type": "stream",
     "text": [
      "TEXT\n"
     ]
    }
   ],
   "source": [
    "class col_types:\n",
    "    def __init__(self):\n",
    "        self.TEXT = 'TEXT'\n",
    "        self.INTEGER = 'INTEGER'\n",
    "        self.REAL = 'REAL'\n",
    "        self.BLOB = 'BLOB'\n",
    "        self.NULL = 'NULL'\n",
    "        \n",
    "ct = col_types()\n",
    "print(ct.TEXT)\n",
    "\n",
    "#print(os.getcwd())\n",
    "#print(os.listdir())"
   ]
  },
  {
   "cell_type": "code",
   "execution_count": 44,
   "metadata": {},
   "outputs": [],
   "source": [
    "def create_database(sqlite_filename=global_sqlite_filename):\n",
    "    conn = sqlite3.connect(sqlite_filename)\n",
    "    cursor = conn.cursor()\n",
    "    return cursor\n",
    "       \n",
    "def get_telemetry_columns():\n",
    "    columns = {'DateTime': ct.TEXT, \n",
    "                  'TARGET': ct.NULL,\n",
    "                  'MIDPTFIN': ct.REAL,\n",
    "                  'AZ': ct.REAL,\n",
    "                  'EL': ct.REAL,\n",
    "                  'AZENCPOS': ct.REAL,\n",
    "                  'ELENCPOS': ct.REAL,\n",
    "                  'AZENCVEL': ct.REAL,\n",
    "                  'ELENCVEL': ct.REAL,\n",
    "                  'AZFLWERR': ct.REAL,\n",
    "                  'ELFLWERR': ct.REAL,\n",
    "                  'OUTFILE': ct.REAL,\n",
    "                  'OBSNUM': ct.REAL,\n",
    "                  'MODE': ct.REAL,\n",
    "                  'AVG_FWHM': ct.REAL,\n",
    "                  'M5WIND': ct.REAL,\n",
    "                  'M5WINDAZ': ct.REAL,\n",
    "                  'TAVERAGE': ct.REAL,\n",
    "                  'TM1S210': ct.REAL,\n",
    "                  'TM2CAIR': ct.REAL,\n",
    "                  'OFFSET_AZ': ct.REAL,\n",
    "                  'OFFSET_EL': ct.REAL,\n",
    "                  'RMSOFFSET_AZ': ct.REAL,\n",
    "                  'RMSOFFSET_EL': ct.REAL,\n",
    "                  'AVGOFFSET_AZ': ct.REAL,\n",
    "                  'AVGOFFSET_EL': ct.REAL,\n",
    "                  'HATCHPOS': ct.TEXT,\n",
    "                  'EVENT': ct.TEXT}    \n",
    "    return columns\n",
    "    \n",
    "def get_velocity_columns():\n",
    "    columns = [('MdptJulian', ct.REAL),\n",
    "               ('velocity', ct.REAL),\n",
    "               ('velocity_error', ct.REAL),\n",
    "               ('stellar_activity1', ct.REAL),\n",
    "               ('stellar_activity2', ct.REAL),\n",
    "               ('total_counts', ct.REAL),\n",
    "               ('brad_doesnt_know', ct.REAL),\n",
    "               ('DateTime', ct.TEXT),\n",
    "               ('starID', ct.TEXT)\n",
    "              ]\n",
    "    return columns\n",
    "    \n",
    "def create_telemetry_table(cursor):        \n",
    "    columns = get_telemetry_columns()\n",
    "    l = ['{} {}'.format(k,v) for (k, v) in columns.items()]\n",
    "    print(len(l))\n",
    "    full_list = ', '.join(l)\n",
    "    sql_create_string = 'CREATE TABLE telemetry (' + full_list + ', PRIMARY KEY (DateTime))'\n",
    "    print(sql_create_string)        \n",
    "    cursor.execute(sql_create_string)\n",
    "\n",
    "    return\n",
    "\n",
    "\n",
    "def create_velocity_table(cursor):\n",
    "    columns = get_velocity_columns()\n",
    "    l = ['{} {}'.format(k,v) for (k, v) in columns.items()]\n",
    "    full_list = ', '.join(l)\n",
    "    sql_create_string = 'CREATE TABLE velocity (' + full_list + ', PRIMARY KEY (DateTime))'\n",
    "    print(sql_create_string)  \n",
    "    cursor.execute(sql_create_string)\n",
    "\n",
    "    return\n",
    "\n",
    "def open_connection(sqlite_filename=global_sqlite_filename):\n",
    "    dburi = 'file:{}?mode=rw'.format(sqlite_filename)\n",
    "    conn = sqlite3.connect(dburi, uri=True)\n",
    "    return conn\n",
    "    "
   ]
  },
  {
   "cell_type": "code",
   "execution_count": 13,
   "metadata": {},
   "outputs": [
    {
     "name": "stdout",
     "output_type": "stream",
     "text": [
      "CREATE TABLE velocity (MdptJulian REAL, velocity REAL, velocity_error REAL, stellar_activity1 REAL, stellar_activity2 REAL, total_counts REAL, brad_doesnt_know REAL, DateTime TEXT, starID TEXT, PRIMARY KEY (DateTime))\n"
     ]
    }
   ],
   "source": [
    "conn = open_connection()\n",
    "cursor = conn.cursor()\n",
    "#create_telemetry_table(cursor)\n",
    "create_velocity_table(cursor)"
   ]
  },
  {
   "cell_type": "code",
   "execution_count": 6,
   "metadata": {},
   "outputs": [],
   "source": []
  },
  {
   "cell_type": "code",
   "execution_count": 8,
   "metadata": {},
   "outputs": [],
   "source": [
    "def populate_telemetry_table(conn, filenames):\n",
    "    for csv_file in filenames:\n",
    "        try:\n",
    "            df = pandas.read_csv(csv_file, \n",
    "                               sep='\\t', skiprows=1, header=None, names=get_telemetry_columns(), comment='#')\n",
    "            df.to_sql('telemetry', conn, if_exists='append', index=False)\n",
    "            \n",
    "        except Exception as e:\n",
    "            print(csv_file)\n",
    "            print(e)\n",
    "\n",
    "def populate_telemetry(conn=None, dirname=None, batchsize=5):\n",
    "    filenames = [os.path.join(dirname, x) for x in os.listdir(dirname)]\n",
    "    filenames.sort()\n",
    "    \n",
    "    def batch(iterable, n=1):\n",
    "        l = len(iterable)\n",
    "        for ndx in range(0, l, n):\n",
    "            yield iterable[ndx : min(ndx + n, l)]\n",
    "    \n",
    "    for file_batch in batch(filenames, n=batchsize):\n",
    "        populate_telemetry_table(conn, file_batch)\n",
    "        \n",
    "    \n",
    "\n",
    "\n",
    "        "
   ]
  },
  {
   "cell_type": "code",
   "execution_count": 14,
   "metadata": {},
   "outputs": [],
   "source": [
    "#populate_telemetry(conn, '../telemetry_data', batchsize=10)"
   ]
  },
  {
   "cell_type": "code",
   "execution_count": 99,
   "metadata": {},
   "outputs": [],
   "source": [
    "def load_velocity_csv(dirname, filename):\n",
    "    full_path = os.path.join(dirname, filename)\n",
    "    columns = get_velocity_columns()[:-2] # leave off the last two column names\n",
    "                                        # because we're calculating them below.\n",
    "    df = pandas.read_csv(full_path, sep='\\s+',\n",
    "            names=[x[0] for x in columns]) \n",
    "                                                \n",
    "    return df\n",
    "    \n",
    "\n",
    "def convert_julian_to_datetime(juliantimes):\n",
    "    times = Time(juliantimes, format='jd')\n",
    "    return times.isot \n",
    "    \n",
    "def add_calculated_columns(df, filename):\n",
    "    new_df = df.copy()\n",
    "    datetimes = convert_julian_to_datetime(new_df.MdptJulian)\n",
    "    new_df['DateTime'] = datetimes\n",
    "    new_df['starID'] = [filename] * len(new_df.index) \n",
    "    \n",
    "    return new_df\n",
    "    \n",
    "\n",
    "def populate_velocity(conn, dirname='../standard_star_velocity_measurements/', debug=False):\n",
    "    filenames = ['HD10700_APF.vels', 'HD185144_APF.vels', 'HD9407_APF.vels']\n",
    "    for file in filenames:\n",
    "        df_incomplete = load_velocity_csv(dirname, file)\n",
    "        df_complete = add_calculated_columns(df_incomplete, file)\n",
    "        if debug:\n",
    "            print(df_complete)\n",
    "        else: \n",
    "            df_complete.to_sql('velocity', conn, if_exists='append', index=False)\n",
    "        print('tried to add {} entries to \\'velocity\\''.format(len(df_complete)))\n",
    "\n",
    "#d = load_velocity_csv('../standard_star_velocity_measurements/', 'HD10700_APF.vels')\n",
    "#add_calculated_columns(d, 'HD10700_APF.vels' )\n"
   ]
  },
  {
   "cell_type": "code",
   "execution_count": 102,
   "metadata": {},
   "outputs": [
    {
     "name": "stdout",
     "output_type": "stream",
     "text": [
      "tried to add 755 entries to 'velocity'\n",
      "tried to add 1655 entries to 'velocity'\n",
      "tried to add 694 entries to 'velocity'\n"
     ]
    }
   ],
   "source": [
    "populate_velocity(conn, debug=False)"
   ]
  }
 ],
 "metadata": {
  "kernelspec": {
   "display_name": "Python 3",
   "language": "python",
   "name": "python3"
  },
  "language_info": {
   "codemirror_mode": {
    "name": "ipython",
    "version": 3
   },
   "file_extension": ".py",
   "mimetype": "text/x-python",
   "name": "python",
   "nbconvert_exporter": "python",
   "pygments_lexer": "ipython3",
   "version": "3.7.1"
  }
 },
 "nbformat": 4,
 "nbformat_minor": 2
}
