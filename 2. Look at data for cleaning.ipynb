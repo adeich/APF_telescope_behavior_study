{
 "cells": [
  {
   "cell_type": "code",
   "execution_count": 25,
   "metadata": {},
   "outputs": [],
   "source": [
    "import os\n",
    "from os import path\n",
    "import pandas\n",
    "from datetime import date, datetime, timedelta\n",
    "import numpy as np\n",
    "from astropy.time import Time\n",
    "import pytz\n",
    "import numpy as np\n",
    "import matplotlib.pyplot as plt\n",
    "from matplotlib.pyplot import figure\n",
    "from matplotlib.dates import DayLocator, HourLocator, DateFormatter, drange\n",
    "import calendar\n",
    "import APFcommonstuff as APF\n",
    "\n",
    "\n",
    "%matplotlib inline"
   ]
  },
  {
   "cell_type": "code",
   "execution_count": 2,
   "metadata": {},
   "outputs": [
    {
     "name": "stdout",
     "output_type": "stream",
     "text": [
      "DateTimeLocal              datetime64[ns]\n",
      "YearMonthDayHour                   object\n",
      "EpocSeconds                       float64\n",
      "exposure_begin_datetime            object\n",
      "exposure_end_datetime              object\n",
      "velocity                          float64\n",
      "velocity_error                    float64\n",
      "stellar_activity1                 float64\n",
      "stellar_activity2                 float64\n",
      "total_counts                        int64\n",
      "brad_doesnt_know                    int64\n",
      "DateTimeUTC                        object\n",
      "starID                             object\n",
      "MIDPTFIN                           object\n",
      "AZ                                float64\n",
      "EL                                float64\n",
      "AZENCPOS                          float64\n",
      "ELENCPOS                          float64\n",
      "AZENCVEL                          float64\n",
      "ELENCVEL                          float64\n",
      "AZFLWERR                          float64\n",
      "ELFLWERR                          float64\n",
      "OUTFILE                            object\n",
      "OBSNUM                            float64\n",
      "MODE                               object\n",
      "AVG_FWHM                          float64\n",
      "M5WIND                            float64\n",
      "M5WINDAZ                          float64\n",
      "TAVERAGE                          float64\n",
      "TM1S210                           float64\n",
      "TM2CAIR                           float64\n",
      "OFFSET_AZ                         float64\n",
      "OFFSET_EL                         float64\n",
      "RMSOFFSET_AZ                      float64\n",
      "RMSOFFSET_EL                      float64\n",
      "AVGOFFSET_AZ                      float64\n",
      "AVGOFFSET_EL                      float64\n",
      "HATCHPOS                           object\n",
      "night_start_temperature           float64\n",
      "night_start_TM1S210               float64\n",
      "night_start_TM2CAIR               float64\n",
      "delta_TAVERAGE                    float64\n",
      "delta_TM1S210                     float64\n",
      "delta_TM2CAIR                     float64\n",
      "wind_dome_angle                   float64\n",
      "dtype: object\n",
      "0   2015-01-25 18:47:47.328013\n",
      "1   2015-07-11 04:44:21.696017\n",
      "2   2015-07-11 04:46:24.383985\n",
      "3   2015-07-13 04:17:53.663995\n",
      "4   2015-07-13 04:19:58.943983\n",
      "5   2015-07-20 03:57:50.976010\n",
      "6   2015-07-20 04:00:58.463989\n",
      "7   2015-07-25 03:52:53.760000\n",
      "8   2015-07-25 03:54:20.160014\n",
      "9   2015-07-25 03:55:50.016014\n",
      "Name: DateTimeLocal, dtype: datetime64[ns]\n",
      "202.4085 333.0 -130.5915\n"
     ]
    }
   ],
   "source": [
    "data = pandas.read_csv('final_data.csv', parse_dates=['DateTimeLocal'])\n",
    "\n",
    "data['delta_TAVERAGE'] = data['TAVERAGE'] - data['night_start_temperature']\n",
    "data['delta_TM1S210'] = data['TM1S210'] - data['night_start_TM1S210']\n",
    "data['delta_TM2CAIR'] = data['TM2CAIR'] - data['night_start_TM2CAIR']\n",
    "data['wind_dome_angle'] = (data['AZ'] - data['M5WINDAZ'] + 180) % 360 - 180\n",
    "print(data.dtypes)\n",
    "print(data.DateTimeLocal[:10])\n",
    "print(data['AZ'][0], data['M5WINDAZ'][0], data['wind_dome_angle'][0])\n",
    "\n",
    "plot_df = pandas.DataFrame([['HD10700_APF.vels', 'b'], ['HD185144_APF.vels', 'g'], \n",
    "                            ['HD9407_APF.vels', 'r']], columns=['starID', 'color'])\n",
    "\n",
    "column_names = None"
   ]
  },
  {
   "cell_type": "code",
   "execution_count": 23,
   "metadata": {},
   "outputs": [
    {
     "name": "stdout",
     "output_type": "stream",
     "text": [
      "0 AZENCPOS\n",
      "1 ELENCPOS\n"
     ]
    },
    {
     "data": {
      "image/png": "[encoded data removed]",
      "text/plain": [
       "<Figure size 432x288 with 2 Axes>"
      ]
     },
     "metadata": {
      "needs_background": "light"
     },
     "output_type": "display_data"
    },
    {
     "data": {
      "image/png": "[encoded data removed]",
      "text/plain": [
       "<Figure size 720x720 with 1 Axes>"
      ]
     },
     "metadata": {
      "needs_background": "light"
     },
     "output_type": "display_data"
    }
   ],
   "source": [
    "def make_histograms_each_channel(data, columns):\n",
    "    rows = len(columns)\n",
    "\n",
    "    fig, axs = plt.subplots(rows, 1)\n",
    "    \n",
    "    for row, column in enumerate(columns):\n",
    "        print(row, column)\n",
    "        ax = axs[row]\n",
    "        ax.hist(data[column], bins=100)\n",
    "        ax.set_ylabel('hi')\n",
    "\n",
    "\n",
    "def make_scatter_positions(data):\n",
    "    plt.plot()\n",
    "    fig = plt.figure(figsize=(10, 10))\n",
    "    plt.scatter(data['AZENCPOS'], data['ELENCPOS'], s=1)\n",
    "        \n",
    "make_histograms_each_channel(data, ['AZENCPOS', 'ELENCPOS'])\n",
    "make_scatter_positions(data)"
   ]
  },
  {
   "cell_type": "code",
   "execution_count": null,
   "metadata": {},
   "outputs": [],
   "source": []
  },
  {
   "cell_type": "code",
   "execution_count": 22,
   "metadata": {},
   "outputs": [
    {
     "name": "stdout",
     "output_type": "stream",
     "text": [
      "DateTimeLocal\n",
      "YearMonthDayHour\n",
      "EpocSeconds\n",
      "exposure_begin_datetime\n",
      "exposure_end_datetime\n",
      "velocity\n",
      "velocity_error\n",
      "stellar_activity1\n",
      "stellar_activity2\n",
      "total_counts\n",
      "brad_doesnt_know\n",
      "DateTimeUTC\n",
      "starID\n",
      "MIDPTFIN\n",
      "AZ\n",
      "EL\n",
      "AZENCPOS\n",
      "ELENCPOS\n",
      "AZENCVEL\n",
      "ELENCVEL\n",
      "AZFLWERR\n",
      "ELFLWERR\n",
      "OUTFILE\n",
      "OBSNUM\n",
      "MODE\n",
      "AVG_FWHM\n",
      "M5WIND\n",
      "M5WINDAZ\n",
      "TAVERAGE\n",
      "TM1S210\n",
      "TM2CAIR\n",
      "OFFSET_AZ\n",
      "OFFSET_EL\n",
      "RMSOFFSET_AZ\n",
      "RMSOFFSET_EL\n",
      "AVGOFFSET_AZ\n",
      "AVGOFFSET_EL\n",
      "HATCHPOS\n",
      "night_start_temperature\n",
      "night_start_TM1S210\n",
      "night_start_TM2CAIR\n",
      "delta_TAVERAGE\n",
      "delta_TM1S210\n",
      "delta_TM2CAIR\n",
      "wind_dome_angle\n"
     ]
    }
   ],
   "source": [
    "for i, thing in enumerate(data.columns):\n",
    "    print(thing)"
   ]
  },
  {
   "cell_type": "code",
   "execution_count": null,
   "metadata": {},
   "outputs": [],
   "source": []
  }
 ],
 "metadata": {
  "kernelspec": {
   "display_name": "Python 3",
   "language": "python",
   "name": "python3"
  },
  "language_info": {
   "codemirror_mode": {
    "name": "ipython",
    "version": 3
   },
   "file_extension": ".py",
   "mimetype": "text/x-python",
   "name": "python",
   "nbconvert_exporter": "python",
   "pygments_lexer": "ipython3",
   "version": "3.7.1"
  }
 },
 "nbformat": 4,
 "nbformat_minor": 2
}
