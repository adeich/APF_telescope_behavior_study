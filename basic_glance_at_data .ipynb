{
 "cells": [
  {
   "cell_type": "markdown",
   "metadata": {},
   "source": [
    "Velocities for reference stars--these velocities *should* all be zero with an ideal instrument. \n",
    "\n",
    "- Show an example of what the data table looks like\n",
    "- What are the sources of the velocity data over time? (show three different colors for three different reference stars)\n",
    "- What is the histogram like for each reference star?\n",
    "- What does the histogram look like of the velocities all together?\n",
    "- How do the velocity error and stellar activity correlate with the velocity?\n",
    "\n",
    "Telemetry\n",
    "\n",
    "- What does the telemetry data look like? (show example table)\n",
    "- What days over the four years does the telemetry data fall on? (show number of seconds/night as a function of date).\n",
    "- What fraction of velocity records have an associated telemetry record?\n",
    "- Plot velocities vs basically all the telemetry channels, using nearby times. \n",
    "- Calculate correlations between velocities and the same.\n",
    "- Calculate some new quantities, also: delta-temperature for a night; frequency and amplitude of oscillation.\n",
    "- Finally, train some neural networks to predict what the telescope telemetry looks like when the velocity is high. "
   ]
  }
 ],
 "metadata": {
  "kernelspec": {
   "display_name": "Python 3",
   "language": "python",
   "name": "python3"
  },
  "language_info": {
   "codemirror_mode": {
    "name": "ipython",
    "version": 3
   },
   "file_extension": ".py",
   "mimetype": "text/x-python",
   "name": "python",
   "nbconvert_exporter": "python",
   "pygments_lexer": "ipython3",
   "version": "3.7.1"
  }
 },
 "nbformat": 4,
 "nbformat_minor": 2
}
